{
 "cells": [
  {
   "cell_type": "code",
   "execution_count": null,
   "id": "df670ef7-4a30-4ef2-afcb-fbde4e1209b4",
   "metadata": {},
   "outputs": [],
   "source": [
    "import openai\n",
    "import json"
   ]
  },
  {
   "cell_type": "markdown",
   "id": "849ea76d-7950-4a29-bf33-e3dd6c1e59d4",
   "metadata": {},
   "source": [
    "# Utility Function\n",
    "Used to read the Open AI API from your apikey file."
   ]
  },
  {
   "cell_type": "code",
   "execution_count": 3,
   "id": "e0124d58-287d-49de-9966-2b79b179a1da",
   "metadata": {},
   "outputs": [],
   "source": [
    "import os \n",
    "import yaml\n",
    "def read_config(path):\n",
    "    \"\"\"\n",
    "    Reads API key from a configuration file.\n",
    "\n",
    "    This function opens a configuration file named \"apikeys.yml\", reads the API key for OpenAI\n",
    "\n",
    "    Returns:\n",
    "    api_key (str): The API key for the Amadeus Flights API.\n",
    "    \"\"\"\n",
    "    \n",
    "    # Get the directory of the current script\n",
    "    script_dir = path\n",
    "\n",
    "    # Construct the full path to the configuration file\n",
    "    file_path = os.path.join(script_dir, \"apikeys.yml\")\n",
    "\n",
    "    with open(file_path, 'r') as stream:\n",
    "        configs = yaml.safe_load(stream)\n",
    "        API_KEY = configs['openai']['api_key']\n",
    "            \n",
    "    return API_KEY"
   ]
  },
  {
   "cell_type": "code",
   "execution_count": 4,
   "id": "4f180fbf-f717-4971-a5c7-352c7459ff27",
   "metadata": {},
   "outputs": [],
   "source": [
    "path = r\"C:\\Users\\johna\\OneDrive\\Documents\\api_keys\"  # Change to the location of your apikeys.yml\n",
    "API_KEY = read_config(path)"
   ]
  },
  {
   "cell_type": "markdown",
   "id": "629d7633-1879-4f5a-9e20-255c857b36bf",
   "metadata": {},
   "source": [
    "# Setting up our functions\n",
    "Let'smimagine we wanted to put a natural language interface on top of an API.\n",
    "We can mimic an API with these timple functions. One to give us news headlines, and another to return the price of financial assets."
   ]
  },
  {
   "cell_type": "code",
   "execution_count": 5,
   "id": "12f78ca4-f9be-4799-bc28-6ca33777a1a0",
   "metadata": {},
   "outputs": [],
   "source": [
    "import openai\n",
    "\n",
    "def generate_response(topic, API_KEY):\n",
    "\n",
    "    \"\"\"\n",
    "    Generates a random news headline for a given ticker\n",
    "    \"\"\"\n",
    "    \n",
    "    openai.api_key = API_KEY\n",
    "    \n",
    "    content = \"You generate news headlines\"\n",
    "    prompt = f\"generate a random news headline based on the f{topic}\"\n",
    "    \n",
    "    response = openai.ChatCompletion.create(\n",
    "        model=\"gpt-3.5-turbo-0623\",\n",
    "        messages=[\n",
    "            {\"role\": \"system\", \"content\": content},\n",
    "            {\"role\": \"user\", \"content\": prompt}\n",
    "        ],\n",
    "        n=1,\n",
    "        stop=None,\n",
    "        temperature=0.5,\n",
    "    )\n",
    "\n",
    "    return response.choices[0].message['content'].strip()\n",
    "\n",
    "\n",
    "def get_current_news(topic):\n",
    "    \"\"\"Get the latest news on a given topic\"\"\"\n",
    "    headline = generate_response(topic)\n",
    "    \n",
    "    news_round = {\n",
    "        \"topic\": topic,\n",
    "        \"headline\": headline\n",
    "    }\n",
    "    return json.dumps(news_round)"
   ]
  },
  {
   "cell_type": "code",
   "execution_count": 6,
   "id": "1832ce4d-368c-4d16-bbcd-bc6e5c097443",
   "metadata": {},
   "outputs": [],
   "source": [
    "def date_to_number(date: str) -> float:\n",
    "    \"\"\"\n",
    "    Converts a date to a number.\n",
    "\n",
    "    Parameters:\n",
    "    date (str): The date in 'YYYY-MM-DD' format.\n",
    "\n",
    "    Returns:\n",
    "    float: The number representation of the date.\n",
    "    \"\"\"\n",
    "    timestamp = pd.to_datetime(date).timestamp()\n",
    "    number = np.sin(timestamp)\n",
    "    return number\n",
    "\n",
    "def get_current_price(ticker, date, currency):\n",
    "    \"\"\"\n",
    "    Get the price for a given ticker, \n",
    "    at a given date and in a given currency\n",
    "    \"\"\"\n",
    "\n",
    "    price = date_to_number(date)\n",
    "    news_round = {\n",
    "        \"ticker\": ticker,\n",
    "        \"price\": \"price\",\n",
    "        \"date\": date,\n",
    "        \"currency\": currency\n",
    "    }\n",
    "    return json.dumps(news_round)"
   ]
  },
  {
   "cell_type": "markdown",
   "id": "6293b7b0-05e1-46f7-96f5-10b73779acfe",
   "metadata": {},
   "source": [
    "# Function Calling with One Function\n",
    "Example of how function calling works with just one function"
   ]
  },
  {
   "cell_type": "code",
   "execution_count": 10,
   "id": "9343e17d-009f-42a9-b4ef-c268fba3df9b",
   "metadata": {},
   "outputs": [],
   "source": [
    "import openai\n",
    "\n",
    "def function_calling_one_function(API_KEY, query):\n",
    "    # Step 1: send the conversation and available functions to GPT\n",
    "    functions = [\n",
    "        {\n",
    "            \"name\": \"get_ticker_price\",\n",
    "            \"description\": \"Get the ticker price of at a given date in a given currency\",\n",
    "            \"parameters\": {\n",
    "                \"type\": \"object\",\n",
    "                \"properties\": {\n",
    "                    \"ticker\": {\n",
    "                        \"type\": \"string\",\n",
    "                        \"description\": \"Return the ticker symbol for the compnay mentioned. E.g Microsoft Corporation as MSFT.\"\n",
    "                    },\n",
    "                    \"date\": {\n",
    "                        \"type\": \"string\",\n",
    "                        \"description\": \"Return the date in in 'YYYY-MM-DD' format.\"\n",
    "                    },\n",
    "                    \"currency\": {\n",
    "                        \"type\": \"string\",\n",
    "                        \"description\": \"return the curency in use the ISO 4217 code. E.g. United States Dollar as USD\"\n",
    "                    }\n",
    "                 },\n",
    "                },\n",
    "                \"required\": [\"ticker\", \"date\", \"currency\"],\n",
    "            }\n",
    "    ]\n",
    "\n",
    "    openai.api_key = API_KEY\n",
    "    response = openai.ChatCompletion.create(\n",
    "        model=\"gpt-3.5-turbo-0613\",\n",
    "        messages=[{\"role\": \"system\", \"content\": query}],\n",
    "        functions=functions,\n",
    "        function_call=\"auto\",  # auto is default, but we'll be explicit\n",
    "    )\n",
    "    response_message = response[\"choices\"][0][\"message\"]\n",
    "    return response_message\n",
    "\n"
   ]
  },
  {
   "cell_type": "code",
   "execution_count": 11,
   "id": "6903c65c-e88d-40bf-a0e1-f85ae815958b",
   "metadata": {},
   "outputs": [],
   "source": [
    "import openai\n",
    "\n",
    "def function_calling_multiple_function(API_KEY, query):\n",
    "    # Step 1: send the conversation and available functions to GPT\n",
    "    functions = [\n",
    "        {\n",
    "            \"name\": \"get_current_news\",\n",
    "            \"description\": \"Get the latest news headline for a given topic\",\n",
    "            \"parameters\": {\n",
    "                \"type\": \"object\",\n",
    "                \"properties\": {\n",
    "                    \"topic\": {\n",
    "                        \"type\": \"string\",\n",
    "                        \"description\": \"The news topic required \"\n",
    "                    }\n",
    "                 },\n",
    "                },\n",
    "                \"required\": [\"topic\"],\n",
    "            },\n",
    "\n",
    "        {\n",
    "            \"name\": \"get_ticker_price\",\n",
    "            \"description\": \"Get the ticker price of at a given date in a given currency\",\n",
    "            \"parameters\": {\n",
    "                \"type\": \"object\",\n",
    "                \"properties\": {\n",
    "                    \"ticker\": {\n",
    "                        \"type\": \"string\",\n",
    "                        \"description\": \"Return the ticker symbol for the compnay mentioned. E.g Microsoft Corporation as MSFT.\"\n",
    "                    },\n",
    "                    \"date\": {\n",
    "                        \"type\": \"string\",\n",
    "                        \"description\": \"Return the date in in 'YYYY-MM-DD' format.\"\n",
    "                    },\n",
    "                    \"currency\": {\n",
    "                        \"type\": \"string\",\n",
    "                        \"description\": \"return the curency in use the ISO 4217 code. E.g. United States Dollar as USD\"\n",
    "                    }\n",
    "                 },\n",
    "                },\n",
    "                \"required\": [\"ticker\", \"date\", \"currency\"],\n",
    "            }\n",
    "    ]\n",
    "\n",
    "    openai.api_key = API_KEY\n",
    "    response = openai.ChatCompletion.create(\n",
    "        model=\"gpt-3.5-turbo-0613\",\n",
    "        messages=[{\"role\": \"system\", \"content\": query}],\n",
    "        functions=functions,\n",
    "        function_call=\"auto\",  # auto is default, but we'll be explicit\n",
    "    )\n",
    "    response_message = response[\"choices\"][0][\"message\"]\n",
    "    return response_message"
   ]
  },
  {
   "cell_type": "code",
   "execution_count": null,
   "id": "6f9d0bd4-9cc5-414d-a5c0-e7d5dee3a489",
   "metadata": {},
   "outputs": [],
   "source": [
    "    # Step 2: check if GPT wanted to call a function\n",
    "    if response_message.get(\"function_call\"):\n",
    "        # Step 3: call the function\n",
    "        # Note: the JSON response may not always be valid; be sure to handle errors\n",
    "        available_functions = {\n",
    "            \"get_current_weather\": get_current_weather,\n",
    "        }  # only one function in this example, but you can have multiple\n",
    "        function_name = response_message[\"function_call\"][\"name\"]\n",
    "        fuction_to_call = available_functions[function_name]\n",
    "        function_args = json.loads(response_message[\"function_call\"][\"arguments\"])\n",
    "        function_response = fuction_to_call(\n",
    "            location=function_args.get(\"location\"),\n",
    "            unit=function_args.get(\"unit\"),\n",
    "        )\n",
    "\n",
    "        # Step 4: send the info on the function call and function response to GPT\n",
    "        messages.append(response_message)  # extend conversation with assistant's reply\n",
    "        messages.append(\n",
    "            {\n",
    "                \"role\": \"function\",\n",
    "                \"name\": function_name,\n",
    "                \"content\": function_response,\n",
    "            }\n",
    "        )  # extend conversation with function response\n",
    "        second_response = openai.ChatCompletion.create(\n",
    "            model=\"gpt-3.5-turbo-0613\",\n",
    "            messages=messages,\n",
    "        )  # get a new response from GPT where it can see the function response\n",
    "        return second_response\n",
    "\n",
    "\n",
    "print(run_conversation())"
   ]
  },
  {
   "cell_type": "code",
   "execution_count": 12,
   "id": "d3f024ab-bd31-449f-a724-d746a5dd48cf",
   "metadata": {},
   "outputs": [
    {
     "data": {
      "text/plain": [
       "<OpenAIObject at 0x2b62993e2c0> JSON: {\n",
       "  \"role\": \"assistant\",\n",
       "  \"content\": null,\n",
       "  \"function_call\": {\n",
       "    \"name\": \"get_ticker_price\",\n",
       "    \"arguments\": \"{\\n  \\\"ticker\\\": \\\"BTC\\\",\\n  \\\"date\\\": \\\"2023-03-01\\\",\\n  \\\"currency\\\": \\\"GBP\\\"\\n}\"\n",
       "  }\n",
       "}"
      ]
     },
     "execution_count": 12,
     "metadata": {},
     "output_type": "execute_result"
    }
   ],
   "source": [
    "query = \"Give me the price of bitcoin on the 1st of march 2023 in pounds\"\n",
    "function_calling_one_function(API_KEY, query)"
   ]
  },
  {
   "cell_type": "code",
   "execution_count": 17,
   "id": "cb608148-30e9-4d56-9381-ce92419e582c",
   "metadata": {},
   "outputs": [],
   "source": [
    "query_1 = \"Give me the price of bitcoin on the 1st of march 2023 in pounds\"\n",
    "query_2 = \"Give me the latest headlines on forest fires in greece\"\n",
    "query_3 = \"what's 10 + 10?\""
   ]
  },
  {
   "cell_type": "code",
   "execution_count": 14,
   "id": "378acfe4-bcd7-408a-ad15-3604eb2752af",
   "metadata": {},
   "outputs": [
    {
     "data": {
      "text/plain": [
       "<OpenAIObject at 0x2b629952900> JSON: {\n",
       "  \"role\": \"assistant\",\n",
       "  \"content\": null,\n",
       "  \"function_call\": {\n",
       "    \"name\": \"get_ticker_price\",\n",
       "    \"arguments\": \"{\\n  \\\"ticker\\\": \\\"BTC\\\",\\n  \\\"date\\\": \\\"2023-03-01\\\",\\n  \\\"currency\\\": \\\"GBP\\\"\\n}\"\n",
       "  }\n",
       "}"
      ]
     },
     "execution_count": 14,
     "metadata": {},
     "output_type": "execute_result"
    }
   ],
   "source": [
    "function_calling_multiple_function(API_KEY, query_1)"
   ]
  },
  {
   "cell_type": "code",
   "execution_count": 15,
   "id": "ea6c736b-b3a9-473f-9bb5-52ddc1c5a94c",
   "metadata": {},
   "outputs": [
    {
     "data": {
      "text/plain": [
       "<OpenAIObject at 0x2b6299550e0> JSON: {\n",
       "  \"role\": \"assistant\",\n",
       "  \"content\": null,\n",
       "  \"function_call\": {\n",
       "    \"name\": \"get_current_news\",\n",
       "    \"arguments\": \"{\\n  \\\"topic\\\": \\\"forest fires in greece\\\"\\n}\"\n",
       "  }\n",
       "}"
      ]
     },
     "execution_count": 15,
     "metadata": {},
     "output_type": "execute_result"
    }
   ],
   "source": [
    "function_calling_multiple_function(API_KEY, query_2)"
   ]
  },
  {
   "cell_type": "code",
   "execution_count": 18,
   "id": "c347f6f1-ae40-4088-88c3-2b00c0eefed7",
   "metadata": {},
   "outputs": [
    {
     "data": {
      "text/plain": [
       "<OpenAIObject at 0x2b62993ee50> JSON: {\n",
       "  \"role\": \"assistant\",\n",
       "  \"content\": null,\n",
       "  \"function_call\": {\n",
       "    \"name\": \"get_current_news\",\n",
       "    \"arguments\": \"{}\"\n",
       "  }\n",
       "}"
      ]
     },
     "execution_count": 18,
     "metadata": {},
     "output_type": "execute_result"
    }
   ],
   "source": [
    "function_calling_multiple_function(API_KEY, query_3)"
   ]
  },
  {
   "cell_type": "markdown",
   "id": "4e6e7873-83c4-4af3-bc39-769a194a9791",
   "metadata": {},
   "source": [
    "# What happens if you try to do this without function calling?\n",
    "Responses are hit and miss, sometimes doesn't respond to exact specifications. No additional flexibility."
   ]
  },
  {
   "cell_type": "code",
   "execution_count": 24,
   "id": "3070fa79-7289-4e1c-8347-2b5db8f9e879",
   "metadata": {},
   "outputs": [],
   "source": [
    "def return_news_args(query, API_KEY):\n",
    "\n",
    "    \"\"\"\n",
    "    Generates a random news headline for a given ticker\n",
    "    \"\"\"\n",
    "    \n",
    "    openai.api_key = API_KEY\n",
    "    \n",
    "    content = \"You parse the arguments defined in the prompt\"\n",
    "    prompt = f\"\"\" From the {query} return the following. ticker: \"Return the ticker symbol for the compnay mentioned. E.g Microsoft Corporation as MSFT.\"\n",
    "                    date: \"Return the date in in 'YYYY-MM-DD' format.\"\n",
    "                    currency : return the curency in use the ISO 4217 code. E.g. United States Dollar as USD \"\"\"\n",
    "    \n",
    "    response = openai.ChatCompletion.create(\n",
    "        model=\"gpt-3.5-turbo-0613\",\n",
    "        messages=[\n",
    "            {\"role\": \"system\", \"content\": content},\n",
    "            {\"role\": \"user\", \"content\": prompt}\n",
    "        ],\n",
    "        n=1,\n",
    "        stop=None,\n",
    "        temperature=0,\n",
    "    )\n",
    "\n",
    "    return response.choices[0].message['content'].strip()"
   ]
  },
  {
   "cell_type": "code",
   "execution_count": 26,
   "id": "386a6809-5c28-4a58-9490-5b949c87db00",
   "metadata": {},
   "outputs": [
    {
     "data": {
      "text/plain": [
       "'Based on the given prompt, the arguments to parse are as follows:\\n\\n1. Ticker Symbol: \"bitcoin\"\\n2. Date: \"1st of March 2023\"\\n3. Currency: \"pounds\"'"
      ]
     },
     "execution_count": 26,
     "metadata": {},
     "output_type": "execute_result"
    }
   ],
   "source": [
    "return_news_args(query_1, API_KEY)"
   ]
  },
  {
   "cell_type": "code",
   "execution_count": null,
   "id": "939280df-c6ef-49d6-aec4-20d36723b946",
   "metadata": {},
   "outputs": [],
   "source": []
  }
 ],
 "metadata": {
  "kernelspec": {
   "display_name": "Python 3 (ipykernel)",
   "language": "python",
   "name": "python3"
  },
  "language_info": {
   "codemirror_mode": {
    "name": "ipython",
    "version": 3
   },
   "file_extension": ".py",
   "mimetype": "text/x-python",
   "name": "python",
   "nbconvert_exporter": "python",
   "pygments_lexer": "ipython3",
   "version": "3.9.17"
  }
 },
 "nbformat": 4,
 "nbformat_minor": 5
}
