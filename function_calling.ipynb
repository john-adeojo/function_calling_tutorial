{
 "cells": [
  {
   "cell_type": "markdown",
   "id": "38b3b4a5-35cb-42dc-a35f-ce3e3a873a84",
   "metadata": {},
   "source": [
    "# Tutorial on OpenAI Function Calling\n",
    "\n",
    "**Author:** John Adeojo  \n",
    "**Company:** [Data-Centric Solutions](https://www.data-centric-solutions.com/)\n"
   ]
  },
  {
   "cell_type": "code",
   "execution_count": 1,
   "id": "df670ef7-4a30-4ef2-afcb-fbde4e1209b4",
   "metadata": {},
   "outputs": [],
   "source": [
    "import openai\n",
    "import json"
   ]
  },
  {
   "cell_type": "markdown",
   "id": "849ea76d-7950-4a29-bf33-e3dd6c1e59d4",
   "metadata": {},
   "source": [
    "# Utility Function\n",
    "Used to read the Open AI API from your apikey file."
   ]
  },
  {
   "cell_type": "code",
   "execution_count": 2,
   "id": "e0124d58-287d-49de-9966-2b79b179a1da",
   "metadata": {},
   "outputs": [],
   "source": [
    "import os \n",
    "import yaml\n",
    "def read_config(path):\n",
    "    \"\"\"\n",
    "    Reads API key from a configuration file.\n",
    "\n",
    "    This function opens a configuration file named \"apikeys.yml\", reads the API key for OpenAI\n",
    "\n",
    "    Returns:\n",
    "    api_key (str): The API key for the Amadeus Flights API.\n",
    "    \"\"\"\n",
    "    \n",
    "    # Get the directory of the current script\n",
    "    script_dir = path\n",
    "\n",
    "    # Construct the full path to the configuration file\n",
    "    file_path = os.path.join(script_dir, \"apikeys.yml\")\n",
    "\n",
    "    with open(file_path, 'r') as stream:\n",
    "        configs = yaml.safe_load(stream)\n",
    "        API_KEY = configs['openai']['api_key']\n",
    "            \n",
    "    return API_KEY"
   ]
  },
  {
   "cell_type": "code",
   "execution_count": 3,
   "id": "4f180fbf-f717-4971-a5c7-352c7459ff27",
   "metadata": {},
   "outputs": [],
   "source": [
    "path = r\"C:\\Users\\johna\\OneDrive\\Documents\\api_keys\"  # Change to the location of your apikeys.yml\n",
    "API_KEY = read_config(path)"
   ]
  },
  {
   "cell_type": "markdown",
   "id": "629d7633-1879-4f5a-9e20-255c857b36bf",
   "metadata": {},
   "source": [
    "# Setting up our functions\n",
    "Let'smimagine we wanted to put a natural language interface on top of an API.\n",
    "We can mimic an API with these timple functions. One to give us news headlines, and another to return a weather forecast."
   ]
  },
  {
   "cell_type": "code",
   "execution_count": 4,
   "id": "12f78ca4-f9be-4799-bc28-6ca33777a1a0",
   "metadata": {},
   "outputs": [],
   "source": [
    "import openai\n",
    "\n",
    "def generate_response(topic, API_KEY):\n",
    "\n",
    "    \"\"\"\n",
    "    Generates a random news headline for a given ticker\n",
    "    \"\"\"\n",
    "    \n",
    "    openai.api_key = API_KEY\n",
    "    \n",
    "    content = \"You generate news headlines\"\n",
    "    prompt = f\"generate a random news headline based on the f{topic}\"\n",
    "    \n",
    "    response = openai.ChatCompletion.create(\n",
    "        model=\"gpt-3.5-turbo-0613\",\n",
    "        messages=[\n",
    "            {\"role\": \"system\", \"content\": content},\n",
    "            {\"role\": \"user\", \"content\": prompt}\n",
    "        ],\n",
    "        n=1,\n",
    "        stop=None,\n",
    "        temperature=0.5,\n",
    "    )\n",
    "\n",
    "    return response.choices[0].message['content'].strip()\n",
    "\n",
    "\n",
    "def get_current_news(topic):\n",
    "    \"\"\"Get the latest news on a given topic\"\"\"\n",
    "    headline = generate_response(topic, API_KEY)\n",
    "    \n",
    "    news_round = {\n",
    "        \"topic\": topic,\n",
    "        \"headline\": headline\n",
    "    }\n",
    "    return json.dumps(news_round)"
   ]
  },
  {
   "cell_type": "code",
   "execution_count": 5,
   "id": "1832ce4d-368c-4d16-bbcd-bc6e5c097443",
   "metadata": {},
   "outputs": [],
   "source": [
    "import pandas as pd\n",
    "import numpy as np\n",
    "def temp_model(date):\n",
    "    \"\"\"\n",
    "    Converts a date to a number.\n",
    "\n",
    "    Parameters:\n",
    "    date (str): The date in 'YYYY-MM-DD' format.\n",
    "\n",
    "    Returns:\n",
    "    float: The number representation of the date.\n",
    "    \"\"\"\n",
    "    random = np.random.uniform(1, 2)\n",
    "    \n",
    "    timestamp = pd.to_datetime(date).timestamp()\n",
    "    number = np.round(np.log(timestamp) * np.log(random), 2)\n",
    "    return number\n",
    "\n",
    "def get_temperature(location, date):\n",
    "    \"\"\"\n",
    "    Get the temperature for a given location, \n",
    "    at a given date and in a given \n",
    "    \"\"\"\n",
    "\n",
    "    temerature = temp_model(date)\n",
    "    news_round = {\n",
    "        \"location\": location,\n",
    "        \"date\": date,\n",
    "        \"temerature\": temerature,\n",
    "        \"scale\": \"Farenheit\"\n",
    "    }\n",
    "    return json.dumps(news_round)"
   ]
  },
  {
   "cell_type": "markdown",
   "id": "6293b7b0-05e1-46f7-96f5-10b73779acfe",
   "metadata": {},
   "source": [
    "# Function Calling with One Function\n",
    "Example of how function calling works with just one function"
   ]
  },
  {
   "cell_type": "code",
   "execution_count": 6,
   "id": "9343e17d-009f-42a9-b4ef-c268fba3df9b",
   "metadata": {},
   "outputs": [],
   "source": [
    "def function_calling_one_function(API_KEY, query):\n",
    "    # Step 1: send the conversation and available functions to GPT\n",
    "    functions = [\n",
    "        {\n",
    "            \"name\": \"get_temperature\",\n",
    "            \"description\": \"Get the temperature at a given location\",\n",
    "            \"parameters\": {\n",
    "                \"type\": \"object\",\n",
    "                \"properties\": {\n",
    "                    \"location\": {\n",
    "                        \"type\": \"string\",\n",
    "                        \"description\": \"Return the location cited in the query\"\n",
    "                    },\n",
    "                    \"date\": {\n",
    "                        \"type\": \"string\",\n",
    "                        \"description\": \"Return the date in in 'YYYY-MM-DD' format.\"\n",
    "                    }\n",
    "                 },\n",
    "                },\n",
    "                \"required\": [\"location\", \"date\"],\n",
    "            }\n",
    "    ]\n",
    "\n",
    "    openai.api_key = API_KEY\n",
    "    response = openai.ChatCompletion.create(\n",
    "        model=\"gpt-3.5-turbo-0613\",\n",
    "        messages=[{\"role\": \"system\", \"content\": query}],\n",
    "        functions=functions,\n",
    "        function_call=\"auto\",  # auto is default, but we'll be explicit\n",
    "    )\n",
    "    response_message = response[\"choices\"][0][\"message\"]\n",
    "    return response_message\n",
    "\n"
   ]
  },
  {
   "cell_type": "code",
   "execution_count": 48,
   "id": "6903c65c-e88d-40bf-a0e1-f85ae815958b",
   "metadata": {},
   "outputs": [],
   "source": [
    "import openai\n",
    "\n",
    "def function_calling_multiple_function(API_KEY, query):\n",
    "    # Step 1: send the conversation and available functions to GPT\n",
    "    functions = [\n",
    "        {\n",
    "            \"name\": \"get_current_news\",\n",
    "            \"description\": \"Get the latest news headline for a given topic\",\n",
    "            \"parameters\": {\n",
    "                \"type\": \"object\",\n",
    "                \"properties\": {\n",
    "                    \"topic\": {\n",
    "                        \"type\": \"string\",\n",
    "                        \"description\": \"The news topic or topics required \"\n",
    "                    }\n",
    "                 },\n",
    "                },\n",
    "                \"required\": [\"topic\"],\n",
    "            },\n",
    "\n",
    "        {\n",
    "            \"name\": \"get_temperature\",\n",
    "            \"description\": \"Get the temperature at a given location\",\n",
    "            \"parameters\": {\n",
    "                \"type\": \"object\",\n",
    "                \"properties\": {\n",
    "                    \"location\": {\n",
    "                        \"type\": \"string\",\n",
    "                        \"description\": \"Return the location cited in the query\"\n",
    "                    },\n",
    "                    \"date\": {\n",
    "                        \"type\": \"string\",\n",
    "                        \"description\": \"Return the date in in 'YYYY-MM-DD' format.\"\n",
    "                    }\n",
    "                 },\n",
    "                },\n",
    "                \"required\": [\"location\", \"date\"],\n",
    "            }\n",
    "    ]\n",
    "\n",
    "    openai.api_key = API_KEY\n",
    "    response = openai.ChatCompletion.create(\n",
    "        model=\"gpt-3.5-turbo-0613\",\n",
    "        messages=[{\"role\": \"system\", \"content\": query}],\n",
    "        functions=functions,\n",
    "        function_call=\"auto\",  # auto is default, but we'll be explicit\n",
    "    )\n",
    "    response_message = response[\"choices\"][0][\"message\"]\n",
    "    return response_message"
   ]
  },
  {
   "cell_type": "code",
   "execution_count": 8,
   "id": "d3f024ab-bd31-449f-a724-d746a5dd48cf",
   "metadata": {},
   "outputs": [
    {
     "data": {
      "text/plain": [
       "<OpenAIObject at 0x1fd8cdf6270> JSON: {\n",
       "  \"role\": \"assistant\",\n",
       "  \"content\": null,\n",
       "  \"function_call\": {\n",
       "    \"name\": \"get_temperature\",\n",
       "    \"arguments\": \"{\\n  \\\"location\\\": \\\"Berlin\\\",\\n  \\\"date\\\": \\\"2023-09-01\\\"\\n}\"\n",
       "  }\n",
       "}"
      ]
     },
     "execution_count": 8,
     "metadata": {},
     "output_type": "execute_result"
    }
   ],
   "source": [
    "query = \"What's the temperature forecast in berlin on the 1st of september 2023\"\n",
    "function_calling_one_function(API_KEY, query)"
   ]
  },
  {
   "cell_type": "code",
   "execution_count": 54,
   "id": "cb608148-30e9-4d56-9381-ce92419e582c",
   "metadata": {},
   "outputs": [],
   "source": [
    "query_1 = \"What's the temperature forecast in berlin on the 1st of september 2023\"\n",
    "query_2 = \"Give me the latest headline news on Berlin\"\n",
    "query_3 = \"what's 10 + 10?\""
   ]
  },
  {
   "cell_type": "code",
   "execution_count": 41,
   "id": "378acfe4-bcd7-408a-ad15-3604eb2752af",
   "metadata": {},
   "outputs": [
    {
     "data": {
      "text/plain": [
       "<OpenAIObject at 0x1fd8ce1e6d0> JSON: {\n",
       "  \"role\": \"assistant\",\n",
       "  \"content\": null,\n",
       "  \"function_call\": {\n",
       "    \"name\": \"get_temperature\",\n",
       "    \"arguments\": \"{\\n  \\\"location\\\": \\\"Berlin\\\",\\n  \\\"date\\\": \\\"2023-09-01\\\"\\n}\"\n",
       "  }\n",
       "}"
      ]
     },
     "execution_count": 41,
     "metadata": {},
     "output_type": "execute_result"
    }
   ],
   "source": [
    "query_1_response = function_calling_multiple_function(API_KEY, query_1)\n",
    "query_1_response"
   ]
  },
  {
   "cell_type": "code",
   "execution_count": 51,
   "id": "ea6c736b-b3a9-473f-9bb5-52ddc1c5a94c",
   "metadata": {},
   "outputs": [
    {
     "data": {
      "text/plain": [
       "<OpenAIObject at 0x1fd8cdcf360> JSON: {\n",
       "  \"role\": \"assistant\",\n",
       "  \"content\": null,\n",
       "  \"function_call\": {\n",
       "    \"name\": \"get_current_news\",\n",
       "    \"arguments\": \"{\\n  \\\"topic\\\": \\\"aliens in Berlin\\\"\\n}\"\n",
       "  }\n",
       "}"
      ]
     },
     "execution_count": 51,
     "metadata": {},
     "output_type": "execute_result"
    }
   ],
   "source": [
    "query_2_response = function_calling_multiple_function(API_KEY, query_2)\n",
    "query_2_response"
   ]
  },
  {
   "cell_type": "code",
   "execution_count": 12,
   "id": "c347f6f1-ae40-4088-88c3-2b00c0eefed7",
   "metadata": {},
   "outputs": [],
   "source": [
    "query_3 = function_calling_multiple_function(API_KEY, query_3)"
   ]
  },
  {
   "cell_type": "markdown",
   "id": "4e6e7873-83c4-4af3-bc39-769a194a9791",
   "metadata": {},
   "source": [
    "# What happens if you try to do this without function calling?\n",
    "Responses are hit and miss, sometimes doesn't respond to exact specifications. No additional flexibility."
   ]
  },
  {
   "cell_type": "code",
   "execution_count": 66,
   "id": "3070fa79-7289-4e1c-8347-2b5db8f9e879",
   "metadata": {},
   "outputs": [],
   "source": [
    "def return_topic_args(query, API_KEY):\n",
    "\n",
    "    openai.api_key = API_KEY\n",
    "    \n",
    "    content = \"You parse the arguments defined in the prompt\"\n",
    "    prompt = f\"\"\" From the {query}, Return the news topic required \"\"\"\n",
    "    \n",
    "    response = openai.ChatCompletion.create(\n",
    "        model=\"gpt-3.5-turbo-0613\",\n",
    "        messages=[\n",
    "            {\"role\": \"system\", \"content\": content},\n",
    "            {\"role\": \"user\", \"content\": prompt}\n",
    "        ],\n",
    "        n=1,\n",
    "        stop=None,\n",
    "        temperature=0,\n",
    "    )\n",
    "\n",
    "    return response.choices[0].message['content'].strip()"
   ]
  },
  {
   "cell_type": "code",
   "execution_count": 67,
   "id": "386a6809-5c28-4a58-9490-5b949c87db00",
   "metadata": {},
   "outputs": [
    {
     "data": {
      "text/plain": [
       "'The news topic required is \"Berlin\".'"
      ]
     },
     "execution_count": 67,
     "metadata": {},
     "output_type": "execute_result"
    }
   ],
   "source": [
    "return_topic_args(query_2, API_KEY)"
   ]
  },
  {
   "cell_type": "markdown",
   "id": "f0517fc4-ae82-4e73-aca5-3dad350a90a5",
   "metadata": {},
   "source": [
    "# Let's parse the function call outputs and feed them back into the Model to create a story"
   ]
  },
  {
   "cell_type": "code",
   "execution_count": 15,
   "id": "53fc9042-fa9e-450e-9868-b7da31d2a965",
   "metadata": {},
   "outputs": [],
   "source": [
    "import json\n",
    "def parse_function(response):\n",
    "    parsed_output = response[\"function_call\"][\"arguments\"]\n",
    "    parsed_output = json.loads(parsed_output)\n",
    "    return parsed_output"
   ]
  },
  {
   "cell_type": "code",
   "execution_count": 16,
   "id": "e8f27d1e-396e-4300-92ad-7eefb03a039b",
   "metadata": {},
   "outputs": [],
   "source": [
    "response = query_1_response\n",
    "location = parse_function(response)['location']\n",
    "date = parse_function(response)['date']"
   ]
  },
  {
   "cell_type": "code",
   "execution_count": 17,
   "id": "08e97871-f08c-4cd3-98af-0c3631f303a1",
   "metadata": {},
   "outputs": [],
   "source": [
    "response = query_2_response\n",
    "topic = parse_function(response)['topic']"
   ]
  },
  {
   "cell_type": "code",
   "execution_count": 18,
   "id": "369a3e98-851e-4f3a-9955-fb94c0551870",
   "metadata": {},
   "outputs": [
    {
     "data": {
      "text/plain": [
       "'{\"topic\": \"Berlin\", \"headline\": \"\\\\\"Berlin Implements Innovative Green Initiative to Combat Climate Change\\\\\"\"}'"
      ]
     },
     "execution_count": 18,
     "metadata": {},
     "output_type": "execute_result"
    }
   ],
   "source": [
    "news = get_current_news(topic)\n",
    "news"
   ]
  },
  {
   "cell_type": "code",
   "execution_count": 19,
   "id": "0f87fe9f-062d-4019-b4b3-5db081660401",
   "metadata": {},
   "outputs": [
    {
     "data": {
      "text/plain": [
       "'{\"location\": \"Berlin\", \"date\": \"2023-09-01\", \"temerature\": 9.72, \"scale\": \"Farenheit\"}'"
      ]
     },
     "execution_count": 19,
     "metadata": {},
     "output_type": "execute_result"
    }
   ],
   "source": [
    "data = get_temperature(location, date)\n",
    "data"
   ]
  },
  {
   "cell_type": "code",
   "execution_count": 20,
   "id": "6129c3c0-6a71-4f2a-b95e-0ec82da00fae",
   "metadata": {},
   "outputs": [],
   "source": [
    "def create_story(data, news, API_KEY):\n",
    "\n",
    "    \"\"\"\n",
    "    Generates a news story for a given some weather data and a news headline\n",
    "    \"\"\"\n",
    "    \n",
    "    openai.api_key = API_KEY\n",
    "    \n",
    "    content = \"You are a journalist writing about how climate is impact current events.\"\n",
    "    prompt = f\"\"\"write a short pargraph about the {data}, given {news}\"\"\"\n",
    "    \n",
    "    response = openai.ChatCompletion.create(\n",
    "        model=\"gpt-3.5-turbo-0613\",\n",
    "        messages=[\n",
    "            {\"role\": \"system\", \"content\": content},\n",
    "            {\"role\": \"user\", \"content\": prompt}\n",
    "        ],\n",
    "        n=1,\n",
    "        stop=None,\n",
    "        temperature=0.5,\n",
    "    )\n",
    "\n",
    "    return response.choices[0].message['content'].strip()"
   ]
  },
  {
   "cell_type": "code",
   "execution_count": 21,
   "id": "d00e97b2-b28d-4695-ae4a-4b65df1c81ae",
   "metadata": {},
   "outputs": [
    {
     "data": {
      "text/plain": [
       "\"Berlin, known for its rich history and vibrant culture, is taking a bold step towards combating climate change. The city has recently implemented an innovative green initiative, as reported on September 1, 2023. With temperatures reaching 9.72 degrees Fahrenheit, Berlin is feeling the impact of global warming firsthand. However, the city's proactive approach to sustainability aims to mitigate these effects. This new initiative is not only a testament to Berlin's commitment to environmental stewardship but also serves as an inspiration for other cities worldwide to take similar actions in the fight against climate change.\""
      ]
     },
     "execution_count": 21,
     "metadata": {},
     "output_type": "execute_result"
    }
   ],
   "source": [
    "create_story(data, news, API_KEY)"
   ]
  }
 ],
 "metadata": {
  "kernelspec": {
   "display_name": "Python 3 (ipykernel)",
   "language": "python",
   "name": "python3"
  },
  "language_info": {
   "codemirror_mode": {
    "name": "ipython",
    "version": 3
   },
   "file_extension": ".py",
   "mimetype": "text/x-python",
   "name": "python",
   "nbconvert_exporter": "python",
   "pygments_lexer": "ipython3",
   "version": "3.9.17"
  }
 },
 "nbformat": 4,
 "nbformat_minor": 5
}
